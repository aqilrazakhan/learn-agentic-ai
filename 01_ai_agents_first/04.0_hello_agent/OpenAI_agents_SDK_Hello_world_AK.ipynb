{
  "nbformat": 4,
  "nbformat_minor": 0,
  "metadata": {
    "colab": {
      "provenance": []
    },
    "kernelspec": {
      "name": "python3",
      "display_name": "Python 3"
    },
    "language_info": {
      "name": "python"
    }
  },
  "cells": [
    {
      "cell_type": "markdown",
      "metadata": {
        "id": "30327e3a"
      },
      "source": [
        "# 🚀 Exploring the openai-agents Library with Gemini\n",
        "This notebook shows how to use the openai-agents library with Gemini API to build conversational agents—covering two execution methods"
      ]
    },
    {
      "cell_type": "markdown",
      "source": [
        "# 📦 installation"
      ],
      "metadata": {
        "id": "wd12XkqwSRxc"
      }
    },
    {
      "cell_type": "code",
      "execution_count": 6,
      "metadata": {
        "id": "8U2DuZP0_1Iu"
      },
      "outputs": [],
      "source": [
        "!pip install -Uq openai-agents"
      ]
    },
    {
      "cell_type": "markdown",
      "source": [
        "# 📦 Imports"
      ],
      "metadata": {
        "id": "jL-reb6RR_H6"
      }
    },
    {
      "cell_type": "code",
      "source": [
        "import nest_asyncio\n",
        "nest_asyncio.apply()"
      ],
      "metadata": {
        "id": "OE_-gMwUDw8b"
      },
      "execution_count": null,
      "outputs": []
    },
    {
      "cell_type": "markdown",
      "source": [
        "# 📦 Imports"
      ],
      "metadata": {
        "id": "MywTysH-Rn2h"
      }
    },
    {
      "cell_type": "code",
      "source": [
        "import os\n",
        "import asyncio\n",
        "import nest_asyncio\n",
        "\n",
        "from agents import Agent, Runner, AsyncOpenAI, OpenAIChatCompletionsModel, set_tracing_disabled\n",
        "from agents.run import RunConfig\n",
        "\n",
        "nest_asyncio.apply()"
      ],
      "metadata": {
        "id": "dvNo75PtD5YL"
      },
      "execution_count": null,
      "outputs": []
    },
    {
      "cell_type": "markdown",
      "source": [
        "# 🔐 Step 1: Setup for Api Keys"
      ],
      "metadata": {
        "id": "uO3deejXRZw8"
      }
    },
    {
      "cell_type": "code",
      "source": [
        "from google.colab import userdata\n",
        "gemini_api_key = userdata.get(\"GEMINI_API_KEY\")\n"
      ],
      "metadata": {
        "id": "9p1ynoc0EDCx"
      },
      "execution_count": null,
      "outputs": []
    },
    {
      "cell_type": "markdown",
      "source": [
        "# 🌐  Step 2: Client Setup for Connecting to **Gemini**"
      ],
      "metadata": {
        "id": "S4GITaFOP526"
      }
    },
    {
      "cell_type": "code",
      "source": [
        "set_tracing_disabled(disabled=True)\n",
        "\n",
        "external_client:AsyncOpenAI = AsyncOpenAI(\n",
        "    api_key=gemini_api_key,\n",
        "    base_url=\"https://generativelanguage.googleapis.com/v1beta/openai/\",\n",
        ")\n",
        "\n",
        "model:OpenAIChatCompletionsModel = OpenAIChatCompletionsModel(\n",
        "    model=\"gemini-2.5-flash\",\n",
        "    openai_client=external_client\n",
        ")"
      ],
      "metadata": {
        "id": "IofWknGLEHHI"
      },
      "execution_count": null,
      "outputs": []
    },
    {
      "cell_type": "markdown",
      "source": [
        "# 💬  Step 3 Running Agent Synchronously"
      ],
      "metadata": {
        "id": "Upg62mcUJUB4"
      }
    },
    {
      "cell_type": "code",
      "source": [
        "agent: Agent = Agent(name=\"Assistant\", instructions=\"You are a helpful assistant\", model=model)\n",
        "\n",
        "result:Runner = Runner.run_sync(agent, \"Hello, how are you.\")\n",
        "\n",
        "print(\"\\nCALLING AGENT\\n\")\n",
        "print(result.final_output)"
      ],
      "metadata": {
        "colab": {
          "base_uri": "https://localhost:8080/"
        },
        "id": "4QgfJqHZJV_M",
        "outputId": "7acfa07b-4790-4ece-e445-c8cb2f58c770"
      },
      "execution_count": null,
      "outputs": [
        {
          "output_type": "stream",
          "name": "stdout",
          "text": [
            "\n",
            "CALLING AGENT\n",
            "\n",
            "Hello! As an AI, I don't experience feelings or states of being like humans do, but I am functioning perfectly and ready to assist you.\n",
            "\n",
            "How can I help you today?\n"
          ]
        }
      ]
    },
    {
      "cell_type": "markdown",
      "source": [
        "# 💬 Step 3: Running Agent Asynchronously"
      ],
      "metadata": {
        "id": "1m8xnCs4KKG5"
      }
    },
    {
      "cell_type": "code",
      "source": [
        "async def main():\n",
        "    agent:Agent = Agent(\n",
        "        name=\"HaikuAssistant\",\n",
        "        instructions=\"You only respond in haikus.\",\n",
        "        model=model\n",
        "    )\n",
        "\n",
        "    result:Runner = await Runner.run(agent, \"Tell me about recursion in programming.\")\n",
        "\n",
        "    print(result.final_output)\n",
        "\n",
        "\n",
        "# Run the main function\n",
        "if __name__ == \"__main__\":\n",
        "    asyncio.run(main())"
      ],
      "metadata": {
        "id": "jZA-iSR9KMJ9",
        "colab": {
          "base_uri": "https://localhost:8080/"
        },
        "outputId": "0d12c47f-30c3-4638-c454-22e8137a6321"
      },
      "execution_count": null,
      "outputs": [
        {
          "output_type": "stream",
          "name": "stdout",
          "text": [
            "A function calls,\n",
            "Itself with simpler problem,\n",
            "Until done it stops.\n"
          ]
        }
      ]
    },
    {
      "cell_type": "markdown",
      "source": [
        "## Example 1:\n",
        "### 👨‍🍳🍽️ Recipe Bot"
      ],
      "metadata": {
        "id": "7RKgPtw2XlJs"
      }
    },
    {
      "cell_type": "code",
      "source": [
        "set_tracing_disabled(disabled=True)\n",
        "\n",
        "# Client Setup for Connecting to Gemini\n",
        "external_client:AsyncOpenAI = AsyncOpenAI(\n",
        "    api_key=gemini_api_key,\n",
        "    base_url=\"https://generativelanguage.googleapis.com/v1beta/openai/\",\n",
        ")\n",
        "\n",
        "#Initialize model\n",
        "model:OpenAIChatCompletionsModel = OpenAIChatCompletionsModel(\n",
        "    model=\"gemini-2.5-flash\",\n",
        "    openai_client=external_client\n",
        ")\n",
        "\n",
        "def main():\n",
        "  # Create the Recipe Agent\n",
        "  agent = Agent(\n",
        "      name=\"RecipeBot\",\n",
        "      instructions=(\n",
        "          \"\"\"You are a helpful recipe assistant. A user will give you a few ingredients\n",
        "          they have at home, and you will suggest one simple and quick recipe using only those items.\n",
        "          Keep it short, step-by-step, and easy for beginners to cook.\"\"\"\n",
        "      ),\n",
        "      model=model\n",
        "  )\n",
        "\n",
        "  print(\"\\n🍳 What can I cook today?\\n\")\n",
        "  ingredients = \"eggs, tomatoes, onions, and bread\"\n",
        "  result:Runner = Runner.run_sync(agent, f\"I have these at home: {ingredients}. What can I cook?\")\n",
        "\n",
        "  print(result.final_output)"
      ],
      "metadata": {
        "id": "0LzWsFBvapjz"
      },
      "execution_count": null,
      "outputs": []
    },
    {
      "cell_type": "code",
      "source": [
        "if __name__ == \"__main__\":\n",
        "    main()"
      ],
      "metadata": {
        "colab": {
          "base_uri": "https://localhost:8080/"
        },
        "id": "DyfXjUXsawYr",
        "outputId": "984d40a5-0e86-4408-d05c-6ce224fb133a"
      },
      "execution_count": null,
      "outputs": [
        {
          "output_type": "stream",
          "name": "stdout",
          "text": [
            "\n",
            "🍳 What can I cook today?\n",
            "\n",
            "Here's a quick and easy recipe for **Tomato Onion Scramble with Toast**:\n",
            "\n",
            "**Ingredients:**\n",
            "* Eggs\n",
            "* Tomatoes\n",
            "* Onions\n",
            "* Bread\n",
            "* (Optional: a tiny bit of oil or butter for cooking, salt and pepper)\n",
            "\n",
            "**Instructions:**\n",
            "\n",
            "1.  **Prep:** Finely chop a quarter of an onion and half a tomato.\n",
            "2.  **Sauté:** Heat a pan (medium heat) with a tiny bit of oil if you have it. Add the chopped onion and cook for 2-3 minutes until it softens. Add the chopped tomato and cook for another 2 minutes.\n",
            "3.  **Eggs:** Crack 1-2 eggs into a bowl, whisk them lightly (add a pinch of salt and pepper if you have them). Pour the whisked eggs into the pan with the onions and tomatoes.\n",
            "4.  **Scramble:** Let the eggs set for a moment, then gently push them around with a spatula until they are cooked through but still a little soft (scrambled).\n",
            "5.  **Toast:** While the eggs are cooking, toast your bread.\n",
            "6.  **Serve:** Spoon the tomato onion scramble onto your toast. Enjoy!\n"
          ]
        }
      ]
    }
  ]
}